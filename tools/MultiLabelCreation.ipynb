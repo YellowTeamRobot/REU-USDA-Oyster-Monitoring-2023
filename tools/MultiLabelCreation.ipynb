{
 "cells": [
  {
   "cell_type": "code",
   "execution_count": 3,
   "id": "8261a233-9c49-407c-9ce1-fa5117d55a3e",
   "metadata": {},
   "outputs": [
    {
     "name": "stdout",
     "output_type": "stream",
     "text": [
      "all done\n"
     ]
    }
   ],
   "source": [
    "import os\n",
    "\n",
    "def process_file(file_path):\n",
    "    lines_to_write = []\n",
    "    \n",
    "    with open(file_path, 'r') as file:\n",
    "        lines = file.read().splitlines()\n",
    "\n",
    "    for line in lines:\n",
    "        parts = line.strip().split()\n",
    "        if len(parts) > 1:\n",
    "            first_number = int(parts[0])\n",
    "            new_line = '2 ' + ' '.join(parts[1:])\n",
    "            lines_to_write.append(line)  # Store the original line\n",
    "            lines_to_write.append(new_line)  # Store the duplicated line\n",
    "\n",
    "    with open(file_path, 'w') as file:\n",
    "        file.write('\\n'.join(lines_to_write))\n",
    "\n",
    "if __name__ == \"__main__\":\n",
    "    folder_path = \"/home/twilight/AnacondaProjects/USDA 2023/HornpointDataset/dataset/valid/labels\"  # Replace this with the actual path to your folder\n",
    "    file_extension = \".txt\"\n",
    "\n",
    "    for filename in os.listdir(folder_path):\n",
    "        if filename.endswith(file_extension):\n",
    "            file_path = os.path.join(folder_path, filename)\n",
    "            process_file(file_path)\n",
    "\n",
    "print(\"all done\")"
   ]
  },
  {
   "cell_type": "code",
   "execution_count": null,
   "id": "a0d4f849-6d3e-46ce-8254-dce09e008726",
   "metadata": {},
   "outputs": [],
   "source": []
  }
 ],
 "metadata": {
  "kernelspec": {
   "display_name": "Python 3 (ipykernel)",
   "language": "python",
   "name": "python3"
  },
  "language_info": {
   "codemirror_mode": {
    "name": "ipython",
    "version": 3
   },
   "file_extension": ".py",
   "mimetype": "text/x-python",
   "name": "python",
   "nbconvert_exporter": "python",
   "pygments_lexer": "ipython3",
   "version": "3.11.4"
  }
 },
 "nbformat": 4,
 "nbformat_minor": 5
}
