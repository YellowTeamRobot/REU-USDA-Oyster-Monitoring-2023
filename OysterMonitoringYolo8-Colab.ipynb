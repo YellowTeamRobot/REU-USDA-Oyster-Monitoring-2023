{
  "cells": [
    {
      "cell_type": "code",
      "execution_count": null,
      "metadata": {
        "colab": {
          "base_uri": "https://localhost:8080/"
        },
        "id": "tdSMcABDNKW-",
        "outputId": "df15813c-6fd4-42a0-bde9-905db6a9da2d"
      },
      "outputs": [
        {
          "output_type": "stream",
          "name": "stderr",
          "text": [
            "Ultralytics YOLOv8.0.20 🚀 Python-3.10.12 torch-2.0.1+cu118 CUDA:0 (Tesla T4, 15102MiB)\n",
            "Setup complete ✅ (2 CPUs, 12.7 GB RAM, 24.2/78.2 GB disk)\n"
          ]
        }
      ],
      "source": [
        "!pip install ultralytics==8.0.20\n",
        "\n",
        "from IPython import display\n",
        "display.clear_output()\n",
        "\n",
        "import ultralytics\n",
        "ultralytics.checks()"
      ]
    },
    {
      "cell_type": "code",
      "execution_count": null,
      "metadata": {
        "id": "VOEYrlBoP9-E"
      },
      "outputs": [],
      "source": [
        "from ultralytics import YOLO\n",
        "\n",
        "from IPython.display import display, Image"
      ]
    },
    {
      "cell_type": "code",
      "source": [
        "# Use if importing dataset from Roboflow (make sure to get your key and project)\n",
        "!mkdir /content/datasets\n",
        "%cd /content/datasets\n",
        "\n",
        "!pip install roboflow\n",
        "\n",
        "from roboflow import Roboflow\n",
        "rf = Roboflow(api_key=\"key\")\n",
        "project = rf.workspace(\"workspace\").project(\"project\")\n",
        "dataset = project.version(1).download(\"yolov8\")"
      ],
      "metadata": {
        "id": "YrAVsanGcHSE"
      },
      "execution_count": null,
      "outputs": []
    },
    {
      "cell_type": "markdown",
      "metadata": {
        "id": "YUjFBKKqXa-u"
      },
      "source": [
        "## Custom Training"
      ]
    },
    {
      "cell_type": "code",
      "execution_count": null,
      "metadata": {
        "id": "D2YkphuiaE7_"
      },
      "outputs": [],
      "source": [
        "%cd '/content'\n",
        "\n",
        "!yolo task=detect mode=train model=yolov8l.pt data={dataset.location}/data.yaml epochs=350 imgsz=320 plots=True"
      ]
    },
    {
      "cell_type": "markdown",
      "source": [
        "# Run Inference"
      ],
      "metadata": {
        "id": "Z14zX_M4WzBL"
      }
    },
    {
      "cell_type": "code",
      "source": [
        "!yolo task=detect mode=predict model=\"/content/train/weights/best.pt\" conf=0.6 source=\"/content/datasets/test/images/\" save=True"
      ],
      "metadata": {
        "id": "YYfzrxnkpJhS"
      },
      "execution_count": null,
      "outputs": []
    },
    {
      "cell_type": "markdown",
      "metadata": {
        "id": "6ODk1VTlevxn"
      },
      "source": [
        "## Validate Custom Model"
      ]
    },
    {
      "cell_type": "code",
      "source": [
        "## Validate\n",
        "!yolo task=detect mode=val model=\"/content/train/weights/best.pt\" data='/content/datasets/data.yaml'"
      ],
      "metadata": {
        "id": "QI-k4hP1b9Ts"
      },
      "execution_count": null,
      "outputs": []
    },
    {
      "cell_type": "markdown",
      "source": [
        "# Run Tracking"
      ],
      "metadata": {
        "id": "9rNTQWG5XRhI"
      }
    },
    {
      "cell_type": "code",
      "source": [
        "model=YOLO(\"/content/train/weights/best.pt\")\n",
        "# Remember to upload a video to track, you can also link to a video on youtube by putting the URL as source\n",
        "results = model.track(source=\"/content/video.mp4\", show=True, save=True)"
      ],
      "metadata": {
        "id": "9YNOzB92XRIn"
      },
      "execution_count": null,
      "outputs": []
    }
  ],
  "metadata": {
    "accelerator": "GPU",
    "colab": {
      "provenance": []
    },
    "gpuClass": "standard",
    "kernelspec": {
      "display_name": "Python 3",
      "name": "python3"
    },
    "language_info": {
      "name": "python"
    }
  },
  "nbformat": 4,
  "nbformat_minor": 0
}